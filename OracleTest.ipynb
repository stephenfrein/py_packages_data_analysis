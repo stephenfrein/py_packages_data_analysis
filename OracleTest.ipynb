{
  "nbformat": 4,
  "nbformat_minor": 0,
  "metadata": {
    "colab": {
      "name": "OracleTest.ipynb",
      "provenance": [],
      "private_outputs": true,
      "authorship_tag": "ABX9TyMk366nBOM0KtZa+xjPfmPg",
      "include_colab_link": true
    },
    "kernelspec": {
      "name": "python3",
      "display_name": "Python 3"
    }
  },
  "cells": [
    {
      "cell_type": "markdown",
      "metadata": {
        "id": "view-in-github",
        "colab_type": "text"
      },
      "source": [
        "<a href=\"https://colab.research.google.com/github/stephenfrein/py_packages_data_analysis/blob/master/OracleTest.ipynb\" target=\"_parent\"><img src=\"https://colab.research.google.com/assets/colab-badge.svg\" alt=\"Open In Colab\"/></a>"
      ]
    },
    {
      "cell_type": "code",
      "metadata": {
        "id": "jOW5oauNPQsg"
      },
      "source": [
        "# run this to set up Oracle client - it will take a while\n",
        "\n",
        "! pip install cx_Oracle\n",
        "\n",
        "! ls -l oracle-instantclient*-basiclite-*.rpm || wget https://yum.oracle.com/repo/OracleLinux/OL7/oracle/instantclient/x86_64/getPackage/oracle-instantclient19.3-basiclite-19.3.0.0.0-1.x86_64.rpm\n",
        "\n",
        "! ls -l oracle-instantclient*-sqlplus-*.rpm   || wget https://yum.oracle.com/repo/OracleLinux/OL7/oracle/instantclient/x86_64/getPackage/oracle-instantclient19.3-sqlplus-19.3.0.0.0-1.x86_64.rpm\n",
        "\n",
        "! sudo apt-get install alien libaio1\n",
        "\n",
        "! sudo alien -i oracle-instantclient19.3-basiclite-19.3.0.0.0-1.x86_64.rpm\n",
        "\n",
        "! sudo alien -i oracle-instantclient19.3-sqlplus-19.3.0.0.0-1.x86_64.rpm\n",
        "\n",
        "%env ORACLE_HOME=/usr/lib/oracle/19.3/client64\n",
        "\n",
        "%env LD_LIBRARY_PATH=/usr/lib/oracle/19.3/client64/lib\n",
        "\n",
        "print('Setup finished!')"
      ],
      "execution_count": null,
      "outputs": []
    },
    {
      "cell_type": "code",
      "metadata": {
        "id": "XP2t3L3lRd2x"
      },
      "source": [
        "# create your Oracle connection and cursor (memory area to execute code)\n",
        "import numpy as np\n",
        "import pandas as pd\n",
        "import cx_Oracle\n",
        "\n",
        "CONN_INFO = {\n",
        " 'host': '45.79.135.253',\n",
        " 'port': '1521',\n",
        " 'user': 'your_username',\n",
        " 'psw': 'your_password',\n",
        " 'service': 'xe',\n",
        "}\n",
        "CONN_STR = '{user}/{psw}@{host}:{port}/{service}'.format(**CONN_INFO)\n",
        "connection = cx_Oracle.connect(CONN_STR)\n",
        "\n",
        "cursor = connection.cursor()\n",
        "\n",
        "print(connection.version)"
      ],
      "execution_count": null,
      "outputs": []
    },
    {
      "cell_type": "code",
      "metadata": {
        "id": "cCWK7MEhSZMp"
      },
      "source": [
        "# run a SELECT and print results\n",
        "for result in cursor.execute(\"select * from HR.Countries\"):\n",
        "    print(result)"
      ],
      "execution_count": null,
      "outputs": []
    },
    {
      "cell_type": "code",
      "metadata": {
        "id": "AVpRB-2-Jt5E"
      },
      "source": [
        "# calling a stored procedure\n",
        "# run the stored procedure setup in the slides first\n",
        "# set up a variable to accept the procedure output\n",
        "result = cursor.var(cx_Oracle.NUMBER)\n",
        "# calling the procedure\n",
        "cursor.callproc(\"DOUBLER\", [6, result])\n",
        "print(result)"
      ],
      "execution_count": null,
      "outputs": []
    },
    {
      "cell_type": "code",
      "metadata": {
        "id": "0YtrvTsnLN-4"
      },
      "source": [
        "# show just value from result\n",
        "print(result.getvalue())"
      ],
      "execution_count": null,
      "outputs": []
    },
    {
      "cell_type": "code",
      "metadata": {
        "id": "X7rwURHmLews"
      },
      "source": [
        "# insert some records\n",
        "# assumes you've created the ExtAppsTest table using the slides\n",
        "cursor.execute(\"insert into ExtAppsTest (IdVal, TextCol, NumCol) values (:1, :2, :3)\", (1, 'Blue', 14))\n",
        "cursor.execute(\"insert into ExtAppsTest (IdVal, TextCol, NumCol) values (:1, :2, :3)\", (2, 'Red', 16))\n",
        "cursor.execute(\"insert into ExtAppsTest (IdVal, TextCol, NumCol) values (:1, :2, :3)\", (3, 'Blue', 19))\n",
        "cursor.execute(\"insert into ExtAppsTest (IdVal, TextCol, NumCol) values (:1, :2, :3)\", (4, 'Yellow', 20))\n",
        "cursor.execute(\"insert into ExtAppsTest (IdVal, TextCol, NumCol) values (:1, :2, :3)\", (5, 'Red', 22))\n",
        "\n"
      ],
      "execution_count": null,
      "outputs": []
    },
    {
      "cell_type": "code",
      "metadata": {
        "id": "02brGoHVuDUE"
      },
      "source": [
        "# update one of the records\n",
        "cursor.execute(\"update ExtAppsTest set TextCol = :1 where IdVal = :2\", ('Purple', 5))"
      ],
      "execution_count": null,
      "outputs": []
    },
    {
      "cell_type": "code",
      "metadata": {
        "id": "uRoK0j6rnKka"
      },
      "source": [
        "# can we pass in a column dynamically?\n",
        "cursor.execute(\"update ExtAppsTest set :1 = :2 where IdVal = :3\", (\"TextCol\",'Magenta', 5))"
      ],
      "execution_count": null,
      "outputs": []
    },
    {
      "cell_type": "code",
      "metadata": {
        "id": "Mx2z2BAiOgX7"
      },
      "source": [
        "# make changes public and permanent\n",
        "# check table contents with SQL Developer before you run this\n",
        "connection.commit()"
      ],
      "execution_count": null,
      "outputs": []
    },
    {
      "cell_type": "code",
      "metadata": {
        "id": "k8jjpuCIOTHq"
      },
      "source": [
        "for result in cursor.execute(\"select * from ExtAppsTest\"):\n",
        "    print(result)"
      ],
      "execution_count": null,
      "outputs": []
    },
    {
      "cell_type": "code",
      "metadata": {
        "id": "Li_kEcZhME6w"
      },
      "source": [
        "# clears out records\n",
        "cursor.execute(\"delete from ExtAppsTest\")"
      ],
      "execution_count": null,
      "outputs": []
    },
    {
      "cell_type": "code",
      "metadata": {
        "id": "8avxXYpYTCE1"
      },
      "source": [
        "connection.close()"
      ],
      "execution_count": null,
      "outputs": []
    }
  ]
}